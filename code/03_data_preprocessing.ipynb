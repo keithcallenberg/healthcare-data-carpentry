{
 "cells": [
  {
   "cell_type": "code",
   "execution_count": null,
   "id": "df2af4d9-8f2a-47f2-95a9-57425637a58e",
   "metadata": {},
   "outputs": [],
   "source": [
    "import pandas as pd\n",
    "from datetime import datetime, date\n",
    "\n",
    "pd.set_option('display.max_rows', 500)\n",
    "pd.set_option('display.max_columns', 500)\n",
    "pd.set_option('display.width', 1000)"
   ]
  },
  {
   "cell_type": "markdown",
   "id": "d32a0c30-6554-4d9a-9cc7-ae4757493237",
   "metadata": {},
   "source": [
    "# Load all data at once"
   ]
  },
  {
   "cell_type": "code",
   "execution_count": null,
   "id": "5bf01b82-949b-4bb3-a27e-b7ea4e83d427",
   "metadata": {},
   "outputs": [],
   "source": [
    "conditions = pd.read_csv(\"../data/csv/conditions.csv\")\n",
    "patients = pd.read_csv(\"../data/csv/patients.csv\")\n",
    "observations = pd.read_csv(\"../data/csv/observations.csv\")\n",
    "#care_plans = pd.read_csv(\"../data/csv/careplans.csv\")\n",
    "encounters = pd.read_csv(\"../data/csv/encounters.csv\")\n",
    "devices = pd.read_csv(\"../data/csv/devices.csv\")\n",
    "#supplies = pd.read_csv('../data/csv/supplies.csv')\n",
    "procedures = pd.read_csv(\"../data/csv/procedures.csv\")\n",
    "medications = pd.read_csv(\"../data/csv/medications.csv\")"
   ]
  },
  {
   "cell_type": "code",
   "execution_count": null,
   "id": "00c7ed7d-1f76-4dd2-978a-3bf2c3829c1c",
   "metadata": {},
   "outputs": [],
   "source": [
    "# set your condition, this will be our prediction \"target\"\n",
    "condition = 'Chronic congestive heart failure (disorder)'"
   ]
  },
  {
   "cell_type": "code",
   "execution_count": null,
   "id": "bda1ce91-5e0e-4b55-8da7-454302329339",
   "metadata": {},
   "outputs": [],
   "source": [
    "# perform any processing that is needed for your features\n",
    "patients = patients.rename(columns={'Id': 'PATIENT'})\n",
    "\n",
    "# convert birthdate to datetime\n",
    "patients['BIRTHDATE'] = pd.to_datetime(patients['BIRTHDATE'])\n",
    "\n",
    "# calculate age\n",
    "patients['AGE'] = patients['BIRTHDATE'].apply(lambda x : (datetime.now().year - x.year))"
   ]
  },
  {
   "cell_type": "code",
   "execution_count": null,
   "id": "87085222-c07c-4752-981d-f8d79f485d26",
   "metadata": {},
   "outputs": [],
   "source": [
    "# set your features (table name, column name)\n",
    "features = [('patients','AGE'), ('patients','GENDER')]"
   ]
  },
  {
   "cell_type": "code",
   "execution_count": null,
   "id": "b1d9b7c4-edb6-4e20-a8e3-eb07217ac9ff",
   "metadata": {},
   "outputs": [],
   "source": [
    "# create your dataset\n",
    "X = patients[['PATIENT']]\n",
    "\n",
    "for feature in features:\n",
    "    merge_col = 'PATIENT'\n",
    "    X = X.merge(locals()[feature[0]][[merge_col, feature[1]]], on=merge_col)\n",
    "X"
   ]
  },
  {
   "cell_type": "code",
   "execution_count": null,
   "id": "fd38ff97-a861-4dc4-9427-8ab4ecb61776",
   "metadata": {},
   "outputs": [],
   "source": [
    "# add your label\n",
    "X = X.merge(conditions.loc[conditions['DESCRIPTION']==condition][['PATIENT','START']], on='PATIENT', how='left')\n",
    "X = X.rename(columns={'START': 'label'})\n",
    "X['label'] = X['label'].notnull()\n",
    "X"
   ]
  },
  {
   "cell_type": "code",
   "execution_count": null,
   "id": "90527d46-f2c9-4e5b-a7c7-07d2c7e70624",
   "metadata": {},
   "outputs": [],
   "source": []
  }
 ],
 "metadata": {
  "kernelspec": {
   "display_name": "Python 3 (ipykernel)",
   "language": "python",
   "name": "python3"
  },
  "language_info": {
   "codemirror_mode": {
    "name": "ipython",
    "version": 3
   },
   "file_extension": ".py",
   "mimetype": "text/x-python",
   "name": "python",
   "nbconvert_exporter": "python",
   "pygments_lexer": "ipython3",
   "version": "3.8.13"
  }
 },
 "nbformat": 4,
 "nbformat_minor": 5
}
