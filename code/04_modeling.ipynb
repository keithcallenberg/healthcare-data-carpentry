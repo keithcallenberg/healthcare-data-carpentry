{
 "cells": [
  {
   "cell_type": "code",
   "execution_count": 1,
   "id": "fe4fdbad-4030-4dba-b0ac-b50c297ad8bd",
   "metadata": {},
   "outputs": [],
   "source": [
    "import pandas as pd\n",
    "from datetime import datetime, date\n",
    "\n",
    "pd.set_option('display.max_rows', 500)\n",
    "pd.set_option('display.max_columns', 500)\n",
    "pd.set_option('display.width', 1000)"
   ]
  },
  {
   "cell_type": "markdown",
   "id": "8b641193-640b-49b2-a189-64f52fcb0c45",
   "metadata": {},
   "source": [
    "# Load your preprocessed data"
   ]
  },
  {
   "cell_type": "code",
   "execution_count": 2,
   "id": "d231e31e-1671-4702-b906-dc26de1714ae",
   "metadata": {},
   "outputs": [],
   "source": [
    "X = pd.read_csv('../data/model_input.csv')"
   ]
  },
  {
   "cell_type": "markdown",
   "id": "c2762cf4-2f6c-45b0-806a-56f0db72ebaa",
   "metadata": {},
   "source": [
    "# Split your dataset into training (70%) and testing (30%)"
   ]
  },
  {
   "cell_type": "code",
   "execution_count": null,
   "id": "ff080a53-cf92-4148-8044-5514670af5ae",
   "metadata": {},
   "outputs": [],
   "source": []
  }
 ],
 "metadata": {
  "kernelspec": {
   "display_name": "Python 3 (ipykernel)",
   "language": "python",
   "name": "python3"
  },
  "language_info": {
   "codemirror_mode": {
    "name": "ipython",
    "version": 3
   },
   "file_extension": ".py",
   "mimetype": "text/x-python",
   "name": "python",
   "nbconvert_exporter": "python",
   "pygments_lexer": "ipython3",
   "version": "3.8.13"
  }
 },
 "nbformat": 4,
 "nbformat_minor": 5
}
