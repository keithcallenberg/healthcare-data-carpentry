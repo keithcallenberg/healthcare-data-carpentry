{
 "cells": [
  {
   "cell_type": "code",
   "execution_count": 38,
   "id": "fe4fdbad-4030-4dba-b0ac-b50c297ad8bd",
   "metadata": {},
   "outputs": [],
   "source": [
    "import pandas as pd\n",
    "from datetime import datetime, date\n",
    "from sklearn.model_selection import train_test_split\n",
    "from sklearn.metrics import RocCurveDisplay\n",
    "from sklearn.linear_model import LogisticRegression\n",
    "from sklearn.ensemble import RandomForestClassifier\n",
    "\n",
    "pd.set_option('display.max_rows', 500)\n",
    "pd.set_option('display.max_columns', 500)\n",
    "pd.set_option('display.width', 1000)"
   ]
  },
  {
   "cell_type": "markdown",
   "id": "8b641193-640b-49b2-a189-64f52fcb0c45",
   "metadata": {
    "tags": []
   },
   "source": [
    "# Load your preprocessed data"
   ]
  },
  {
   "cell_type": "code",
   "execution_count": 33,
   "id": "d231e31e-1671-4702-b906-dc26de1714ae",
   "metadata": {},
   "outputs": [
    {
     "data": {
      "text/html": [
       "<div>\n",
       "<style scoped>\n",
       "    .dataframe tbody tr th:only-of-type {\n",
       "        vertical-align: middle;\n",
       "    }\n",
       "\n",
       "    .dataframe tbody tr th {\n",
       "        vertical-align: top;\n",
       "    }\n",
       "\n",
       "    .dataframe thead th {\n",
       "        text-align: right;\n",
       "    }\n",
       "</style>\n",
       "<table border=\"1\" class=\"dataframe\">\n",
       "  <thead>\n",
       "    <tr style=\"text-align: right;\">\n",
       "      <th></th>\n",
       "      <th>PATIENT</th>\n",
       "      <th>AGE</th>\n",
       "      <th>GENDER</th>\n",
       "      <th>label</th>\n",
       "    </tr>\n",
       "  </thead>\n",
       "  <tbody>\n",
       "    <tr>\n",
       "      <th>0</th>\n",
       "      <td>1ff7f10f-a204-4bb1-aa72-dd763fa99482</td>\n",
       "      <td>5</td>\n",
       "      <td>M</td>\n",
       "      <td>False</td>\n",
       "    </tr>\n",
       "    <tr>\n",
       "      <th>1</th>\n",
       "      <td>9bcf6ed5-d808-44af-98a0-7d78a29ede72</td>\n",
       "      <td>6</td>\n",
       "      <td>F</td>\n",
       "      <td>False</td>\n",
       "    </tr>\n",
       "    <tr>\n",
       "      <th>2</th>\n",
       "      <td>5163c501-353c-4a82-b863-a3f1df2d6cf1</td>\n",
       "      <td>18</td>\n",
       "      <td>F</td>\n",
       "      <td>False</td>\n",
       "    </tr>\n",
       "  </tbody>\n",
       "</table>\n",
       "</div>"
      ],
      "text/plain": [
       "                                PATIENT  AGE GENDER  label\n",
       "0  1ff7f10f-a204-4bb1-aa72-dd763fa99482    5      M  False\n",
       "1  9bcf6ed5-d808-44af-98a0-7d78a29ede72    6      F  False\n",
       "2  5163c501-353c-4a82-b863-a3f1df2d6cf1   18      F  False"
      ]
     },
     "execution_count": 33,
     "metadata": {},
     "output_type": "execute_result"
    }
   ],
   "source": [
    "X = pd.read_csv('../data/model_input.csv')\n",
    "X.head(3)"
   ]
  },
  {
   "cell_type": "code",
   "execution_count": 34,
   "id": "11868513-d045-404e-84b2-b7a2747d622d",
   "metadata": {},
   "outputs": [
    {
     "data": {
      "text/html": [
       "<div>\n",
       "<style scoped>\n",
       "    .dataframe tbody tr th:only-of-type {\n",
       "        vertical-align: middle;\n",
       "    }\n",
       "\n",
       "    .dataframe tbody tr th {\n",
       "        vertical-align: top;\n",
       "    }\n",
       "\n",
       "    .dataframe thead th {\n",
       "        text-align: right;\n",
       "    }\n",
       "</style>\n",
       "<table border=\"1\" class=\"dataframe\">\n",
       "  <thead>\n",
       "    <tr style=\"text-align: right;\">\n",
       "      <th></th>\n",
       "      <th>PATIENT</th>\n",
       "      <th>AGE</th>\n",
       "      <th>GENDER</th>\n",
       "      <th>label</th>\n",
       "    </tr>\n",
       "  </thead>\n",
       "  <tbody>\n",
       "    <tr>\n",
       "      <th>0</th>\n",
       "      <td>1ff7f10f-a204-4bb1-aa72-dd763fa99482</td>\n",
       "      <td>5</td>\n",
       "      <td>1</td>\n",
       "      <td>False</td>\n",
       "    </tr>\n",
       "    <tr>\n",
       "      <th>1</th>\n",
       "      <td>9bcf6ed5-d808-44af-98a0-7d78a29ede72</td>\n",
       "      <td>6</td>\n",
       "      <td>0</td>\n",
       "      <td>False</td>\n",
       "    </tr>\n",
       "    <tr>\n",
       "      <th>2</th>\n",
       "      <td>5163c501-353c-4a82-b863-a3f1df2d6cf1</td>\n",
       "      <td>18</td>\n",
       "      <td>0</td>\n",
       "      <td>False</td>\n",
       "    </tr>\n",
       "    <tr>\n",
       "      <th>3</th>\n",
       "      <td>cc3c806f-4a09-4a89-a990-4286450956be</td>\n",
       "      <td>26</td>\n",
       "      <td>1</td>\n",
       "      <td>False</td>\n",
       "    </tr>\n",
       "    <tr>\n",
       "      <th>4</th>\n",
       "      <td>bd1c4ffc-7f1d-4590-adbb-1d6533fb623e</td>\n",
       "      <td>3</td>\n",
       "      <td>0</td>\n",
       "      <td>False</td>\n",
       "    </tr>\n",
       "    <tr>\n",
       "      <th>...</th>\n",
       "      <td>...</td>\n",
       "      <td>...</td>\n",
       "      <td>...</td>\n",
       "      <td>...</td>\n",
       "    </tr>\n",
       "    <tr>\n",
       "      <th>124145</th>\n",
       "      <td>1ecfda69-7afc-4417-8a6f-c00be1be96dc</td>\n",
       "      <td>88</td>\n",
       "      <td>1</td>\n",
       "      <td>True</td>\n",
       "    </tr>\n",
       "    <tr>\n",
       "      <th>124146</th>\n",
       "      <td>8cf835a7-f161-4fe9-a559-350c97a3450e</td>\n",
       "      <td>78</td>\n",
       "      <td>1</td>\n",
       "      <td>False</td>\n",
       "    </tr>\n",
       "    <tr>\n",
       "      <th>124147</th>\n",
       "      <td>503d768f-481c-46e2-bcdb-a6116686351a</td>\n",
       "      <td>88</td>\n",
       "      <td>1</td>\n",
       "      <td>False</td>\n",
       "    </tr>\n",
       "    <tr>\n",
       "      <th>124148</th>\n",
       "      <td>2599e9d9-ca59-44ec-a28c-9eae219f162d</td>\n",
       "      <td>88</td>\n",
       "      <td>1</td>\n",
       "      <td>True</td>\n",
       "    </tr>\n",
       "    <tr>\n",
       "      <th>124149</th>\n",
       "      <td>f8d85cff-037c-4313-9448-14ac57d586a8</td>\n",
       "      <td>88</td>\n",
       "      <td>1</td>\n",
       "      <td>False</td>\n",
       "    </tr>\n",
       "  </tbody>\n",
       "</table>\n",
       "<p>124150 rows × 4 columns</p>\n",
       "</div>"
      ],
      "text/plain": [
       "                                     PATIENT  AGE  GENDER  label\n",
       "0       1ff7f10f-a204-4bb1-aa72-dd763fa99482    5       1  False\n",
       "1       9bcf6ed5-d808-44af-98a0-7d78a29ede72    6       0  False\n",
       "2       5163c501-353c-4a82-b863-a3f1df2d6cf1   18       0  False\n",
       "3       cc3c806f-4a09-4a89-a990-4286450956be   26       1  False\n",
       "4       bd1c4ffc-7f1d-4590-adbb-1d6533fb623e    3       0  False\n",
       "...                                      ...  ...     ...    ...\n",
       "124145  1ecfda69-7afc-4417-8a6f-c00be1be96dc   88       1   True\n",
       "124146  8cf835a7-f161-4fe9-a559-350c97a3450e   78       1  False\n",
       "124147  503d768f-481c-46e2-bcdb-a6116686351a   88       1  False\n",
       "124148  2599e9d9-ca59-44ec-a28c-9eae219f162d   88       1   True\n",
       "124149  f8d85cff-037c-4313-9448-14ac57d586a8   88       1  False\n",
       "\n",
       "[124150 rows x 4 columns]"
      ]
     },
     "execution_count": 34,
     "metadata": {},
     "output_type": "execute_result"
    }
   ],
   "source": [
    "# convert non-numeric columns to numeric\n",
    "X['GENDER'] = X['GENDER'].astype('category')\n",
    "X['GENDER'] = X['GENDER'].cat.codes\n",
    "X"
   ]
  },
  {
   "cell_type": "markdown",
   "id": "c2762cf4-2f6c-45b0-806a-56f0db72ebaa",
   "metadata": {},
   "source": [
    "# Split your dataset into training (70%) and testing (30%)"
   ]
  },
  {
   "cell_type": "code",
   "execution_count": 35,
   "id": "ff080a53-cf92-4148-8044-5514670af5ae",
   "metadata": {},
   "outputs": [],
   "source": [
    "# specify the columns we will use to train the model\n",
    "exclude_columns = ['PATIENT', 'label']\n",
    "include_columns = [col for col in X.columns if col not in exclude_columns]\n",
    "\n",
    "# set a random state to ensure reproducibility\n",
    "random_state = 1\n",
    "\n",
    "X_train, X_test, y_train, y_test = train_test_split(X[include_columns], X['label'], test_size=0.30, random_state=random_state)"
   ]
  },
  {
   "cell_type": "code",
   "execution_count": 51,
   "id": "429e4e45-d798-492e-8679-55332e4637e5",
   "metadata": {},
   "outputs": [
    {
     "data": {
      "text/plain": [
       "<sklearn.metrics._plot.roc_curve.RocCurveDisplay at 0x7eff98a28910>"
      ]
     },
     "execution_count": 51,
     "metadata": {},
     "output_type": "execute_result"
    },
    {
     "data": {
      "image/png": "[encoded data removed]",
      "text/plain": [
       "<Figure size 432x288 with 1 Axes>"
      ]
     },
     "metadata": {
      "needs_background": "light"
     },
     "output_type": "display_data"
    }
   ],
   "source": [
    "# Train a logistic regression model with default settings\n",
    "lr = LogisticRegression(random_state=random_state)\n",
    "lr.fit(X_train, y_train)\n",
    "#y_pred_lr = lr.decision_function(X_test)\n",
    "#RocCurveDisplay.from_predictions(y_test, y_pred_lr)\n",
    "RocCurveDisplay.from_estimator(lr, X_test, y_test, alpha=0.8)"
   ]
  },
  {
   "cell_type": "code",
   "execution_count": 52,
   "id": "9edf0ec7-be20-4610-8d26-bdbc9c6e7611",
   "metadata": {},
   "outputs": [
    {
     "data": {
      "text/plain": [
       "<sklearn.metrics._plot.roc_curve.RocCurveDisplay at 0x7eff97cbc460>"
      ]
     },
     "execution_count": 52,
     "metadata": {},
     "output_type": "execute_result"
    },
    {
     "data": {
      "image/png": "[encoded data removed]",
      "text/plain": [
       "<Figure size 432x288 with 1 Axes>"
      ]
     },
     "metadata": {
      "needs_background": "light"
     },
     "output_type": "display_data"
    }
   ],
   "source": [
    "# Train a Random Forest model with default settings\n",
    "rf = RandomForestClassifier(random_state=random_state)\n",
    "rf.fit(X_train, y_train)\n",
    "RocCurveDisplay.from_estimator(rf, X_test, y_test, alpha=0.8)"
   ]
  },
  {
   "cell_type": "code",
   "execution_count": null,
   "id": "64ca29c3-7db8-4ba7-bb05-1e7b3e232db7",
   "metadata": {},
   "outputs": [],
   "source": []
  },
  {
   "cell_type": "code",
   "execution_count": null,
   "id": "8b60df50-0af2-46f5-a477-df3b9dabb029",
   "metadata": {},
   "outputs": [],
   "source": [
    "# compare"
   ]
  }
 ],
 "metadata": {
  "kernelspec": {
   "display_name": "Python 3 (ipykernel)",
   "language": "python",
   "name": "python3"
  },
  "language_info": {
   "codemirror_mode": {
    "name": "ipython",
    "version": 3
   },
   "file_extension": ".py",
   "mimetype": "text/x-python",
   "name": "python",
   "nbconvert_exporter": "python",
   "pygments_lexer": "ipython3",
   "version": "3.8.13"
  }
 },
 "nbformat": 4,
 "nbformat_minor": 5
}
