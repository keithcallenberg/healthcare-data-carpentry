{
 "cells": [
  {
   "cell_type": "markdown",
   "id": "ea36b514-352c-4466-9b33-ffb81c5008b1",
   "metadata": {
    "tags": []
   },
   "source": [
    "# Synthetic dataset options\n",
    "* 1k generic\n",
    "https://synthetichealth.github.io/synthea-sample-data/downloads/synthea_sample_data_csv_apr2020.zip\n",
    "\n",
    "* 10k covid19\n",
    "https://synthetichealth.github.io/synthea-sample-data/downloads/10k_synthea_covid19_csv.zip\n",
    "\n",
    "* 100k covid19\n",
    "http://hdx.mitre.org/downloads/syntheticmass/100k_synthea_covid19_csv.zip\n",
    "\n",
    "* 6k pediatric (childhood obesity)\n",
    "http://hdx.mitre.org/downloads/syntheticmass/synthetic_denver.zip\n",
    "\n",
    "* 3.5k CVD patients (Coherent)\n"
   ]
  },
  {
   "cell_type": "code",
   "execution_count": 19,
   "id": "4299a3c7-dc2e-4b97-852f-e201f0ade763",
   "metadata": {
    "tags": []
   },
   "outputs": [
    {
     "name": "stdout",
     "output_type": "stream",
     "text": [
      "--2022-04-19 13:16:38--  http://hdx.mitre.org/downloads/syntheticmass/100k_synthea_covid19_csv.zip\n",
      "Resolving hdx.mitre.org (hdx.mitre.org)... 66.170.225.45\n",
      "Connecting to hdx.mitre.org (hdx.mitre.org)|66.170.225.45|:80... connected.\n",
      "HTTP request sent, awaiting response... 200 OK\n",
      "Length: 536667509 (512M) [application/zip]\n",
      "Saving to: ‘../data/latest.zip’\n",
      "\n",
      "../data/latest.zip  100%[===================>] 511.81M  16.3MB/s    in 32s     \n",
      "\n",
      "2022-04-19 13:17:11 (15.8 MB/s) - ‘../data/latest.zip’ saved [536667509/536667509]\n",
      "\n",
      "Archive:  ../data/latest.zip\n",
      "  inflating: ../data/csv/medications.csv  \n",
      "  inflating: ../data/csv/providers.csv  \n",
      "  inflating: ../data/csv/payer_transitions.csv  \n",
      "  inflating: ../data/csv/imaging_studies.csv  \n",
      "  inflating: ../data/csv/supplies.csv  \n",
      "  inflating: ../data/csv/payers.csv  \n",
      "  inflating: ../data/csv/allergies.csv  \n",
      "  inflating: ../data/csv/procedures.csv  \n",
      "  inflating: ../data/csv/organizations.csv  \n",
      "  inflating: ../data/csv/conditions.csv  \n",
      "  inflating: ../data/csv/careplans.csv  \n",
      "  inflating: ../data/csv/encounters.csv  \n",
      "  inflating: ../data/csv/devices.csv  \n",
      "  inflating: ../data/csv/immunizations.csv  \n",
      "  inflating: ../data/csv/patients.csv  \n",
      "  inflating: ../data/csv/Synthea COVID-19 Analysis.html  \n",
      "  inflating: ../data/csv/._Synthea COVID-19 Analysis.html  \n",
      "  inflating: ../data/csv/observations.csv  \n"
     ]
    }
   ],
   "source": [
    "# download\n",
    "!wget http://hdx.mitre.org/downloads/syntheticmass/100k_synthea_covid19_csv.zip -O ../data/latest.zip\n",
    "\n",
    "# extract\n",
    "!unzip -jo ../data/latest.zip -d ../data/csv"
   ]
  },
  {
   "cell_type": "code",
   "execution_count": 18,
   "id": "93bb8482-976c-454b-95cb-6125cbbed491",
   "metadata": {},
   "outputs": [
    {
     "name": "stdout",
     "output_type": "stream",
     "text": [
      "Archive:  ../data/100k_synthea_covid19_csv.zip\n",
      "  inflating: ../data/csv2/medications.csv  \n",
      "  inflating: ../data/csv2/providers.csv  \n",
      "  inflating: ../data/csv2/payer_transitions.csv  \n",
      "  inflating: ../data/csv2/imaging_studies.csv  \n",
      "  inflating: ../data/csv2/supplies.csv  \n",
      "  inflating: ../data/csv2/payers.csv  \n",
      "  inflating: ../data/csv2/allergies.csv  \n",
      "  inflating: ../data/csv2/procedures.csv  \n",
      "  inflating: ../data/csv2/organizations.csv  \n",
      "  inflating: ../data/csv2/conditions.csv  \n",
      "  inflating: ../data/csv2/careplans.csv  \n",
      "  inflating: ../data/csv2/encounters.csv  \n",
      "  inflating: ../data/csv2/devices.csv  \n",
      "  inflating: ../data/csv2/immunizations.csv  \n",
      "  inflating: ../data/csv2/patients.csv  \n",
      "  inflating: ../data/csv2/Synthea COVID-19 Analysis.html  \n",
      "  inflating: ../data/csv2/._Synthea COVID-19 Analysis.html  \n",
      "  inflating: ../data/csv2/observations.csv  \n"
     ]
    }
   ],
   "source": []
  },
  {
   "cell_type": "code",
   "execution_count": 16,
   "id": "7993ef10-030a-4910-92a0-ea2beae6526d",
   "metadata": {},
   "outputs": [],
   "source": [
    "!mv ../data/100k_synthea_covid19_csv/ ../data/csv"
   ]
  },
  {
   "cell_type": "code",
   "execution_count": 17,
   "id": "9fde14c5-26c2-4c86-952b-ca9289af1f53",
   "metadata": {},
   "outputs": [
    {
     "name": "stdout",
     "output_type": "stream",
     "text": [
      "UnZip 6.00 of 20 April 2009, by Debian. Original by Info-ZIP.\n",
      "\n",
      "Usage: unzip [-Z] [-opts[modifiers]] file[.zip] [list] [-x xlist] [-d exdir]\n",
      "  Default action is to extract files in list, except those in xlist, to exdir;\n",
      "  file[.zip] may be a wildcard.  -Z => ZipInfo mode (\"unzip -Z\" for usage).\n",
      "\n",
      "  -p  extract files to pipe, no messages     -l  list files (short format)\n",
      "  -f  freshen existing files, create none    -t  test compressed archive data\n",
      "  -u  update files, create if necessary      -z  display archive comment only\n",
      "  -v  list verbosely/show version info       -T  timestamp archive to latest\n",
      "  -x  exclude files that follow (in xlist)   -d  extract files into exdir\n",
      "modifiers:\n",
      "  -n  never overwrite existing files         -q  quiet mode (-qq => quieter)\n",
      "  -o  overwrite files WITHOUT prompting      -a  auto-convert any text files\n",
      "  -j  junk paths (do not make directories)   -aa treat ALL files as text\n",
      "  -U  use escapes for all non-ASCII Unicode  -UU ignore any Unicode fields\n",
      "  -C  match filenames case-insensitively     -L  make (some) names lowercase\n",
      "  -X  restore UID/GID info                   -V  retain VMS version numbers\n",
      "  -K  keep setuid/setgid/tacky permissions   -M  pipe through \"more\" pager\n",
      "  -O CHARSET  specify a character encoding for DOS, Windows and OS/2 archives\n",
      "  -I CHARSET  specify a character encoding for UNIX and other archives\n",
      "\n",
      "See \"unzip -hh\" or unzip.txt for more help.  Examples:\n",
      "  unzip data1 -x joe   => extract all files except joe from zipfile data1.zip\n",
      "  unzip -p foo | more  => send contents of foo.zip via pipe into program more\n",
      "  unzip -fo foo ReadMe => quietly replace existing ReadMe if archive file newer\n"
     ]
    }
   ],
   "source": [
    "!unzip"
   ]
  },
  {
   "cell_type": "code",
   "execution_count": null,
   "id": "ce33bbab-824a-47f9-9229-93dca6cefc7e",
   "metadata": {},
   "outputs": [],
   "source": []
  }
 ],
 "metadata": {
  "kernelspec": {
   "display_name": "Python 3 (ipykernel)",
   "language": "python",
   "name": "python3"
  },
  "language_info": {
   "codemirror_mode": {
    "name": "ipython",
    "version": 3
   },
   "file_extension": ".py",
   "mimetype": "text/x-python",
   "name": "python",
   "nbconvert_exporter": "python",
   "pygments_lexer": "ipython3",
   "version": "3.8.13"
  }
 },
 "nbformat": 4,
 "nbformat_minor": 5
}
