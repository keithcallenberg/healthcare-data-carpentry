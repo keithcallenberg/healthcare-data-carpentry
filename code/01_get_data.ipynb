{
 "cells": [
  {
   "cell_type": "markdown",
   "id": "ea36b514-352c-4466-9b33-ffb81c5008b1",
   "metadata": {
    "tags": []
   },
   "source": [
    "# Synthetic dataset options\n",
    "https://synthea.mitre.org/downloads\n",
    "\n",
    "* 1k generic\n",
    "https://synthetichealth.github.io/synthea-sample-data/downloads/synthea_sample_data_csv_apr2020.zip\n",
    "\n",
    "* 10k covid19 (recommended for Binder environment)\n",
    "https://synthetichealth.github.io/synthea-sample-data/downloads/10k_synthea_covid19_csv.zip\n",
    "\n",
    "* 100k covid19\n",
    "http://hdx.mitre.org/downloads/syntheticmass/100k_synthea_covid19_csv.zip\n",
    "\n",
    "* 6k pediatric (childhood obesity)\n",
    "http://hdx.mitre.org/downloads/syntheticmass/synthetic_denver.zip\n",
    "\n",
    "* 3.5k CVD patients (Coherent)\n",
    "http://hdx.mitre.org/downloads/coherent-08-10-2021.zip\n",
    "\n",
    "Select a dataset above and copy and paste the URL into the command below."
   ]
  },
  {
   "cell_type": "code",
   "execution_count": 19,
   "id": "4299a3c7-dc2e-4b97-852f-e201f0ade763",
   "metadata": {
    "tags": []
   },
   "outputs": [
    {
     "name": "stdout",
     "output_type": "stream",
     "text": [
      "--2022-04-19 13:16:38--  http://hdx.mitre.org/downloads/syntheticmass/100k_synthea_covid19_csv.zip\n",
      "Resolving hdx.mitre.org (hdx.mitre.org)... 66.170.225.45\n",
      "Connecting to hdx.mitre.org (hdx.mitre.org)|66.170.225.45|:80... connected.\n",
      "HTTP request sent, awaiting response... 200 OK\n",
      "Length: 536667509 (512M) [application/zip]\n",
      "Saving to: ‘../data/latest.zip’\n",
      "\n",
      "../data/latest.zip  100%[===================>] 511.81M  16.3MB/s    in 32s     \n",
      "\n",
      "2022-04-19 13:17:11 (15.8 MB/s) - ‘../data/latest.zip’ saved [536667509/536667509]\n",
      "\n",
      "Archive:  ../data/latest.zip\n",
      "  inflating: ../data/csv/medications.csv  \n",
      "  inflating: ../data/csv/providers.csv  \n",
      "  inflating: ../data/csv/payer_transitions.csv  \n",
      "  inflating: ../data/csv/imaging_studies.csv  \n",
      "  inflating: ../data/csv/supplies.csv  \n",
      "  inflating: ../data/csv/payers.csv  \n",
      "  inflating: ../data/csv/allergies.csv  \n",
      "  inflating: ../data/csv/procedures.csv  \n",
      "  inflating: ../data/csv/organizations.csv  \n",
      "  inflating: ../data/csv/conditions.csv  \n",
      "  inflating: ../data/csv/careplans.csv  \n",
      "  inflating: ../data/csv/encounters.csv  \n",
      "  inflating: ../data/csv/devices.csv  \n",
      "  inflating: ../data/csv/immunizations.csv  \n",
      "  inflating: ../data/csv/patients.csv  \n",
      "  inflating: ../data/csv/Synthea COVID-19 Analysis.html  \n",
      "  inflating: ../data/csv/._Synthea COVID-19 Analysis.html  \n",
      "  inflating: ../data/csv/observations.csv  \n"
     ]
    }
   ],
   "source": [
    "# download zip file\n",
    "!wget http://hdx.mitre.org/downloads/syntheticmass/100k_synthea_covid19_csv.zip -O ../data/latest.zip\n",
    "\n",
    "# extract to data/csv directory\n",
    "!unzip -jo ../data/latest.zip -d ../data/csv"
   ]
  }
 ],
 "metadata": {
  "kernelspec": {
   "display_name": "Python 3 (ipykernel)",
   "language": "python",
   "name": "python3"
  },
  "language_info": {
   "codemirror_mode": {
    "name": "ipython",
    "version": 3
   },
   "file_extension": ".py",
   "mimetype": "text/x-python",
   "name": "python",
   "nbconvert_exporter": "python",
   "pygments_lexer": "ipython3",
   "version": "3.8.13"
  }
 },
 "nbformat": 4,
 "nbformat_minor": 5
}
